{
 "cells": [
  {
   "cell_type": "code",
   "execution_count": 143,
   "metadata": {},
   "outputs": [],
   "source": [
    "# import dependencies baby\n",
    "import pandas as pd\n",
    "import plotly as plt\n",
    "from py_ball import league, player, image, team, salaries"
   ]
  },
  {
   "cell_type": "code",
   "execution_count": 152,
   "metadata": {},
   "outputs": [],
   "source": [
    "headers = {'Connection': 'keep-alive',\n",
    "           'Host': 'stats.nba.com',\n",
    "           'Origin': 'http://stats.nba.com',\n",
    "           'Upgrade-Insecure-Requests': '1',\n",
    "           'Referer': 'stats.nba.com',\n",
    "           'x-nba-stats-origin': 'stats',\n",
    "           'x-nba-stats-token': 'true',\n",
    "           'Accept-Language': 'en-US,en;q=0.9',\n",
    "           \"X-NewRelic-ID\": \"VQECWF5UChAHUlNTBwgBVw==\",\n",
    "           'User-Agent': 'Mozilla/5.0 (Macintosh; Intel Mac OS X 10_14_6)' +\\\n",
    "                         ' AppleWebKit/537.36 (KHTML, like Gecko)' + \\\n",
    "                         ' Chrome/81.0.4044.129 Safari/537.36'}\n",
    "league_id = '10' #WNBA\n"
   ]
  },
  {
   "cell_type": "code",
   "execution_count": 156,
   "metadata": {},
   "outputs": [],
   "source": [
    "players = league.League(endpoint='playerindex', season='2024-25', league_id='10', headers=headers,)\n",
    "df1 = pd.DataFrame(players.data)\n",
    "expanded_df = pd.DataFrame(df1['PlayerIndex'].tolist())\n",
    "cleaned = expanded_df.dropna(subset=['ROSTER_STATUS'])\n"
   ]
  },
  {
   "cell_type": "code",
   "execution_count": 157,
   "metadata": {},
   "outputs": [
    {
     "name": "stderr",
     "output_type": "stream",
     "text": [
      "C:\\Users\\Zachw\\AppData\\Local\\Temp\\ipykernel_6212\\1557308825.py:15: SettingWithCopyWarning: \n",
      "A value is trying to be set on a copy of a slice from a DataFrame.\n",
      "Try using .loc[row_indexer,col_indexer] = value instead\n",
      "\n",
      "See the caveats in the documentation: https://pandas.pydata.org/pandas-docs/stable/user_guide/indexing.html#returning-a-view-versus-a-copy\n",
      "  cleaned.loc[(cleaned['PLAYER_FIRST_NAME'] + \" \" + cleaned['PLAYER_LAST_NAME']).isin(queerplayerlist), 'QUEER'] = 1.0\n",
      "C:\\Users\\Zachw\\AppData\\Local\\Temp\\ipykernel_6212\\1557308825.py:17: SettingWithCopyWarning: \n",
      "A value is trying to be set on a copy of a slice from a DataFrame.\n",
      "Try using .loc[row_indexer,col_indexer] = value instead\n",
      "\n",
      "See the caveats in the documentation: https://pandas.pydata.org/pandas-docs/stable/user_guide/indexing.html#returning-a-view-versus-a-copy\n",
      "  cleaned['PLAYER_NAME'] = cleaned['PLAYER_FIRST_NAME'] + ' ' + cleaned['PLAYER_LAST_NAME']\n"
     ]
    }
   ],
   "source": [
    "#messy data cleaning\n",
    "queerplayerlist = [\n",
    "    \"Brittney Griner\", \"Jordin Canada\", \"Courtney Vandersloot\", \"Maddy Westbeld\", \n",
    "    \"Arike Ogunbowale\", \"Dijonai Carrington\", \"Nalyssa Smith\", \"Tyasha Harris\", \n",
    "    \"Kate Martin\", \"Cecelia Zandalasini\", \"Tiffany Hayes\", \"DeWanna Bonner\", \n",
    "    \"Natasha Howard\", \"Sydney Colson\", \"Crystal Bradford\", \"Chelsea Gray\", \n",
    "    \"Jewell Loyd\", \"Kierstan Bell\", \"Emma Cannon\", \"Julie Allemand\", \n",
    "    \"Courtney Williams\", \"Kayla McBride\", \"Natisha Hiedeman\", \"Breanna Stewart\", \n",
    "    \"Isabelle Harrison\", \"Jaylyn Sherrod\", \"Jonquel Jones\", \"Marine Johannes\", \n",
    "    \"Leonie Fiebich\", \"Natasha Cloud\", \"Alyssa Thomas\", \"Kahleah Copper\", \n",
    "    \"Natasha Mack\", \"Sami Whitcomb\", \"Sevgi Uzun\", \"Erica Wheeler\", \n",
    "    \"Gabby Williams\", \"Brittney Sykes\", \"Emily Engstler\", \"Stefanie Dolson\", \n",
    "    \"Sug Sutton\"\n",
    "]\n",
    "cleaned.loc[(cleaned['PLAYER_FIRST_NAME'] + \" \" + cleaned['PLAYER_LAST_NAME']).isin(queerplayerlist), 'QUEER'] = 1.0\n",
    "\n",
    "cleaned['PLAYER_NAME'] = cleaned['PLAYER_FIRST_NAME'] + ' ' + cleaned['PLAYER_LAST_NAME']\n",
    "cleaned = cleaned.drop(columns=['PLAYER_FIRST_NAME', 'PLAYER_LAST_NAME'])\n",
    "columns_order = ['PERSON_ID', 'PLAYER_NAME'] + [col for col in cleaned.columns if col not in ['PERSON_ID', 'PLAYER_NAME']]\n",
    "cleaned = cleaned[columns_order]\n",
    "cleaned = cleaned.drop(columns=[\"TEAM_ID\", \"TEAM_SLUG\", \"ROSTER_STATUS\", \"STATS_TIMEFRAME\", \"PLAYER_SLUG\"])\n",
    "cleaned['TEAM_NAME'] = cleaned['TEAM_CITY'] + \" \" + cleaned['TEAM_NAME']\n",
    "cleaned.drop(columns=['TEAM_CITY'], inplace=True)\n",
    "cleaned.to_csv('QueerPDB.csv')"
   ]
  }
 ],
 "metadata": {
  "kernelspec": {
   "display_name": "base",
   "language": "python",
   "name": "python3"
  },
  "language_info": {
   "codemirror_mode": {
    "name": "ipython",
    "version": 3
   },
   "file_extension": ".py",
   "mimetype": "text/x-python",
   "name": "python",
   "nbconvert_exporter": "python",
   "pygments_lexer": "ipython3",
   "version": "3.12.4"
  }
 },
 "nbformat": 4,
 "nbformat_minor": 2
}
